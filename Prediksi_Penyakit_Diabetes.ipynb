{
  "cells": [
    {
      "cell_type": "markdown",
      "id": "OY7bhLmJ7qGH",
      "metadata": {
        "id": "OY7bhLmJ7qGH"
      },
      "source": [
        "# **Business Understanding**"
      ]
    },
    {
      "cell_type": "markdown",
      "id": "04z-yCMU73gK",
      "metadata": {
        "id": "04z-yCMU73gK"
      },
      "source": [
        "### Problem Background"
      ]
    },
    {
      "cell_type": "markdown",
      "id": "M36dmWW77_ck",
      "metadata": {
        "id": "M36dmWW77_ck"
      },
      "source": [
        "Penyakit diabetes menjadi masalah kesehatan yang semakin meningkat di seluruh dunia. Identifikasi dini dan prediksi risiko diabetes dapat membantu dalam pencegahan dan manajemen penyakit yang lebih baik. Namun, belum ada metode yang optimal untuk melakukan prediksi secara efisien dan akurat."
      ]
    },
    {
      "cell_type": "markdown",
      "id": "Ey3myevC8Isw",
      "metadata": {
        "id": "Ey3myevC8Isw"
      },
      "source": [
        "### Goals"
      ]
    },
    {
      "cell_type": "markdown",
      "id": "9D7X9tqd8L7W",
      "metadata": {
        "id": "9D7X9tqd8L7W"
      },
      "source": [
        "Pengembangan model prediksi diabetes yang akurat dan dapat diinterpretasikan"
      ]
    },
    {
      "cell_type": "markdown",
      "id": "c15925c7",
      "metadata": {
        "id": "c15925c7"
      },
      "source": [
        "# **Data Understanding**"
      ]
    },
    {
      "cell_type": "markdown",
      "id": "iFdd1Vdw8W5E",
      "metadata": {
        "id": "iFdd1Vdw8W5E"
      },
      "source": [
        "### Import Library"
      ]
    },
    {
      "cell_type": "code",
      "execution_count": 1,
      "id": "38c00b4c",
      "metadata": {
        "id": "38c00b4c"
      },
      "outputs": [],
      "source": [
        "import pandas as pd\n",
        "import numpy as np\n",
        "import seaborn as sns\n",
        "import matplotlib.pyplot as plt\n",
        "from sklearn.preprocessing import StandardScaler\n",
        "from sklearn.model_selection import train_test_split\n",
        "from sklearn.svm import SVC\n",
        "from sklearn.metrics import accuracy_score, classification_report, confusion_matrix\n",
        "from sklearn.ensemble import RandomForestClassifier\n",
        "\n",
        "from sklearn.linear_model import LogisticRegression\n",
        "from sklearn.ensemble import GradientBoostingClassifier, RandomForestClassifier\n",
        "from imblearn.under_sampling import RandomUnderSampler\n",
        "from imblearn.over_sampling import RandomOverSampler"
      ]
    },
    {
      "cell_type": "code",
      "execution_count": 2,
      "id": "JkLmMdIM4woo",
      "metadata": {
        "id": "JkLmMdIM4woo"
      },
      "outputs": [],
      "source": [
        "%matplotlib inline\n",
        "pd.options.display.max_rows = None\n",
        "pd.options.display.max_columns = None"
      ]
    },
    {
      "cell_type": "code",
      "execution_count": 3,
      "id": "92xJRkEg5IYv",
      "metadata": {
        "colab": {
          "base_uri": "https://localhost:8080/",
          "height": 76
        },
        "id": "92xJRkEg5IYv",
        "outputId": "c8708ca5-46ac-4a20-bad9-9dde1dc4f474"
      },
      "outputs": [
        {
          "output_type": "execute_result",
          "data": {
            "text/plain": [
              "[(0.0, 0.10980392156862745, 0.4980392156862745),\n",
              " (0.6941176470588235, 0.25098039215686274, 0.050980392156862744),\n",
              " (0.07058823529411765, 0.44313725490196076, 0.10980392156862745),\n",
              " (0.5490196078431373, 0.03137254901960784, 0.0),\n",
              " (0.34901960784313724, 0.11764705882352941, 0.44313725490196076),\n",
              " (0.34901960784313724, 0.1843137254901961, 0.050980392156862744),\n",
              " (0.6352941176470588, 0.20784313725490197, 0.5098039215686274),\n",
              " (0.23529411764705882, 0.23529411764705882, 0.23529411764705882),\n",
              " (0.7215686274509804, 0.5215686274509804, 0.0392156862745098),\n",
              " (0.0, 0.38823529411764707, 0.4549019607843137)]"
            ],
            "text/html": [
              "<svg  width=\"550\" height=\"55\"><rect x=\"0\" y=\"0\" width=\"55\" height=\"55\" style=\"fill:#001c7f;stroke-width:2;stroke:rgb(255,255,255)\"/><rect x=\"55\" y=\"0\" width=\"55\" height=\"55\" style=\"fill:#b1400d;stroke-width:2;stroke:rgb(255,255,255)\"/><rect x=\"110\" y=\"0\" width=\"55\" height=\"55\" style=\"fill:#12711c;stroke-width:2;stroke:rgb(255,255,255)\"/><rect x=\"165\" y=\"0\" width=\"55\" height=\"55\" style=\"fill:#8c0800;stroke-width:2;stroke:rgb(255,255,255)\"/><rect x=\"220\" y=\"0\" width=\"55\" height=\"55\" style=\"fill:#591e71;stroke-width:2;stroke:rgb(255,255,255)\"/><rect x=\"275\" y=\"0\" width=\"55\" height=\"55\" style=\"fill:#592f0d;stroke-width:2;stroke:rgb(255,255,255)\"/><rect x=\"330\" y=\"0\" width=\"55\" height=\"55\" style=\"fill:#a23582;stroke-width:2;stroke:rgb(255,255,255)\"/><rect x=\"385\" y=\"0\" width=\"55\" height=\"55\" style=\"fill:#3c3c3c;stroke-width:2;stroke:rgb(255,255,255)\"/><rect x=\"440\" y=\"0\" width=\"55\" height=\"55\" style=\"fill:#b8850a;stroke-width:2;stroke:rgb(255,255,255)\"/><rect x=\"495\" y=\"0\" width=\"55\" height=\"55\" style=\"fill:#006374;stroke-width:2;stroke:rgb(255,255,255)\"/></svg>"
            ]
          },
          "metadata": {},
          "execution_count": 3
        }
      ],
      "source": [
        "sns.set(rc={'figure.figsize':(20.7,8.27)})\n",
        "sns.set_style(\"whitegrid\")\n",
        "sns.color_palette(\"dark\")"
      ]
    },
    {
      "cell_type": "markdown",
      "id": "qUiEq5iR6F-D",
      "metadata": {
        "id": "qUiEq5iR6F-D"
      },
      "source": [
        "### Import Drive"
      ]
    },
    {
      "cell_type": "code",
      "execution_count": 4,
      "id": "XieiJurziAKi",
      "metadata": {
        "id": "XieiJurziAKi"
      },
      "outputs": [],
      "source": [
        "from google.colab import drive"
      ]
    },
    {
      "cell_type": "code",
      "execution_count": null,
      "id": "hXUcnRR0iHgN",
      "metadata": {
        "id": "hXUcnRR0iHgN"
      },
      "outputs": [],
      "source": [
        "drive.mount('/content/drive/')"
      ]
    },
    {
      "cell_type": "code",
      "execution_count": null,
      "id": "-FdD80ufiqHh",
      "metadata": {
        "id": "-FdD80ufiqHh"
      },
      "outputs": [],
      "source": [
        "%cd '/content/drive/MyDrive/SEM6/'"
      ]
    },
    {
      "cell_type": "code",
      "execution_count": null,
      "id": "W8TYwP9AkTwq",
      "metadata": {
        "id": "W8TYwP9AkTwq"
      },
      "outputs": [],
      "source": [
        "diabetes= pd.read_csv('diabetes.csv')"
      ]
    },
    {
      "cell_type": "markdown",
      "id": "NqFPaHfBRWD4",
      "metadata": {
        "id": "NqFPaHfBRWD4"
      },
      "source": [
        "### Descriptive Analysis"
      ]
    },
    {
      "cell_type": "code",
      "execution_count": null,
      "id": "fc117f91",
      "metadata": {
        "id": "fc117f91"
      },
      "outputs": [],
      "source": [
        "diabetes.head()"
      ]
    },
    {
      "cell_type": "markdown",
      "id": "zTI8VODamNmP",
      "metadata": {
        "id": "zTI8VODamNmP"
      },
      "source": [
        "Informasi fitur\n",
        "\n",
        "- Pregencies: menyatakan Jumlah kehamilan\n",
        "- Glucose: menyatakan kadar Glukosa dalam darah\n",
        "- BloodPreasure: menyatakan pengukuran tekanan darah\n",
        "- SkinThickness: menyatakan ketebalan kulit\n",
        "- Insulin: menyatakan kadar Insulin dalam darah\n",
        "- BMI: menyatakan indeks massa tubuh\n",
        "- DiabetesPedigreeFunction : menyatakan persentase Diabetes\n",
        "- Age: menyatakan usia\n",
        "- Outcome: menyatakan hasil akhir untuk 1 adalah YA, 0 adalah TIDAK"
      ]
    },
    {
      "cell_type": "code",
      "execution_count": null,
      "id": "6224fd76",
      "metadata": {
        "id": "6224fd76"
      },
      "outputs": [],
      "source": [
        "diabetes.info()"
      ]
    },
    {
      "cell_type": "code",
      "execution_count": null,
      "id": "8dc86339",
      "metadata": {
        "id": "8dc86339"
      },
      "outputs": [],
      "source": [
        "diabetes.shape"
      ]
    },
    {
      "cell_type": "code",
      "execution_count": null,
      "id": "q3VBdSHvT_gV",
      "metadata": {
        "id": "q3VBdSHvT_gV"
      },
      "outputs": [],
      "source": [
        "print(diabetes.dtypes)"
      ]
    },
    {
      "cell_type": "code",
      "execution_count": null,
      "id": "uYiufMXiqRut",
      "metadata": {
        "id": "uYiufMXiqRut"
      },
      "outputs": [],
      "source": [
        "diabetes.describe()"
      ]
    },
    {
      "cell_type": "markdown",
      "id": "BilLGVaTsYGJ",
      "metadata": {
        "id": "BilLGVaTsYGJ"
      },
      "source": [
        "Insight Descriptive Analyst:\n",
        "\n",
        "- Diketahui bahwa tidak terdapat missing value pada dataset\n",
        "- Tipe data setiap fitur telah sesuai\n",
        "- Tipe data fitur dataset bertipe numerik (int dan float)\n",
        "- Terdapat 9 kolom dan 768 baris\n",
        "- Outcome sebagai fitur target atau label\n",
        "- Karena dataset telah memiliki label sehingga metode yang digunakan adalah supervised learning\n",
        "- Karena fitur target bertipe kategorikal, dipilih model klasifikasi\n",
        "- Dari keseluruhan data terlihat untuk fitur pregnancies, glucose, bloodpresure, skinthickness, BMI, DiabetesPedigreeFunction, Age memiliki distribusi normal. hal ini dilihat dari jarak antara mean dan median data yang tidak terlalu jauh.\n",
        "- Sedangkan untuk fitur insulin memiliki jarak yang cukup jauh untuk mean dan median datanya yaitu 79,37 dan 30,5 sehingga menimbulkan indikasi adanya outliers."
      ]
    },
    {
      "cell_type": "markdown",
      "id": "2e9c3397",
      "metadata": {
        "id": "2e9c3397"
      },
      "source": [
        "# **Pre Processing**"
      ]
    },
    {
      "cell_type": "code",
      "execution_count": null,
      "id": "DF-VTp2y9_eX",
      "metadata": {
        "id": "DF-VTp2y9_eX"
      },
      "outputs": [],
      "source": [
        "# check missing values:\n",
        "diabetes.isna().sum().to_frame('isna').T"
      ]
    },
    {
      "cell_type": "code",
      "execution_count": null,
      "id": "ElAgYNGn-VVg",
      "metadata": {
        "id": "ElAgYNGn-VVg"
      },
      "outputs": [],
      "source": [
        "# check invalid values:\n",
        "for col in diabetes:\n",
        "    print(f\"{col}: {diabetes[col].unique()}\\n\")"
      ]
    },
    {
      "cell_type": "code",
      "execution_count": null,
      "id": "6ZRnwP6T-jx4",
      "metadata": {
        "id": "6ZRnwP6T-jx4"
      },
      "outputs": [],
      "source": [
        "# check duplicated data\n",
        "print(f\"Number of dublicated: {diabetes.duplicated().sum()}\")"
      ]
    },
    {
      "cell_type": "code",
      "execution_count": null,
      "id": "aFZjVkXB-wuz",
      "metadata": {
        "id": "aFZjVkXB-wuz"
      },
      "outputs": [],
      "source": [
        "%matplotlib inline\n",
        "sns.pairplot(diabetes)\n",
        "plt.show()"
      ]
    },
    {
      "cell_type": "markdown",
      "id": "ee4fc630",
      "metadata": {
        "id": "ee4fc630"
      },
      "source": [
        "# **Exploratory Data Analisyst**"
      ]
    },
    {
      "cell_type": "markdown",
      "id": "N53uj4Om8atP",
      "metadata": {
        "id": "N53uj4Om8atP"
      },
      "source": [
        "## **EDA 1**"
      ]
    },
    {
      "cell_type": "code",
      "execution_count": null,
      "id": "kwJDtS-ldRq7",
      "metadata": {
        "id": "kwJDtS-ldRq7"
      },
      "outputs": [],
      "source": [
        "fig, ax = plt.subplots(figsize=(6, 4))\n",
        "ax.scatter(diabetes['BMI'], diabetes['BloodPressure'])\n",
        "ax.set_xlabel('(body mass index of people)')\n",
        "ax.set_ylabel('(bp of the people )')\n",
        "plt.show()"
      ]
    },
    {
      "cell_type": "code",
      "execution_count": null,
      "id": "uFEi7YhlZcVQ",
      "metadata": {
        "id": "uFEi7YhlZcVQ"
      },
      "outputs": [],
      "source": [
        "fig, ax = plt.subplots(figsize=(6, 4))\n",
        "ax.scatter(diabetes['Glucose'], diabetes['Insulin'])\n",
        "ax.set_xlabel('(Glucose of the people)')\n",
        "ax.set_ylabel('(Insulin of the people )')\n",
        "plt.show()"
      ]
    },
    {
      "cell_type": "markdown",
      "id": "p29FdjEiuX1K",
      "metadata": {
        "id": "p29FdjEiuX1K"
      },
      "source": [
        "##**Multivariate analysyst 1**"
      ]
    },
    {
      "cell_type": "code",
      "execution_count": null,
      "id": "Zrzm-4tSua4O",
      "metadata": {
        "id": "Zrzm-4tSua4O"
      },
      "outputs": [],
      "source": [
        "selected_columns=['Pregnancies','Glucose','BloodPressure','SkinThickness','Insulin','BMI','DiabetesPedigreeFunction','Age','Outcome']\n",
        "subset_diabetes = diabetes[selected_columns]"
      ]
    },
    {
      "cell_type": "code",
      "execution_count": null,
      "id": "WwqdNglpvg_N",
      "metadata": {
        "id": "WwqdNglpvg_N"
      },
      "outputs": [],
      "source": [
        "correlation_matrix = subset_diabetes.corr()"
      ]
    },
    {
      "cell_type": "code",
      "execution_count": null,
      "id": "qbjfY70zvtff",
      "metadata": {
        "id": "qbjfY70zvtff"
      },
      "outputs": [],
      "source": [
        "print(correlation_matrix)"
      ]
    },
    {
      "cell_type": "code",
      "execution_count": null,
      "id": "UjQvh4ZjwoWS",
      "metadata": {
        "id": "UjQvh4ZjwoWS"
      },
      "outputs": [],
      "source": [
        "plt.figure(figsize=(10, 8))\n",
        "sns.heatmap(correlation_matrix, annot=True, cmap='coolwarm', linewidths=0.5)\n",
        "plt.title('Heat Map Korelasi')\n",
        "plt.show()"
      ]
    },
    {
      "cell_type": "markdown",
      "id": "1vWzgUZByhtS",
      "metadata": {
        "id": "1vWzgUZByhtS"
      },
      "source": [
        "## **Analisa Outliers Analysyst 1**"
      ]
    },
    {
      "cell_type": "code",
      "execution_count": null,
      "id": "O001Do3Qb_jp",
      "metadata": {
        "id": "O001Do3Qb_jp"
      },
      "outputs": [],
      "source": [
        "# Menganalisis outlier menggunakan boxplot\n",
        "plt.figure(figsize=(10, 6))\n",
        "sns.boxplot(data=diabetes.drop(columns='Outcome'))\n",
        "plt.title('Boxplot untuk Fitur-Fitur Diabetes Dataset')\n",
        "plt.xticks(rotation=45)\n",
        "plt.show()"
      ]
    },
    {
      "cell_type": "markdown",
      "id": "zbhNi865VSyy",
      "metadata": {
        "id": "zbhNi865VSyy"
      },
      "source": [
        "Insight :\n",
        "- Nilai korelasi antar variabel dapat memberikan gambaran tentang hubungan linear antara fitur. Korelasi berkisar antara -1 hingga 1. Nilai mendekati 1 menunjukkan korelasi positif yang kuat, sementara nilai mendekati -1 menunjukkan korelasi negatif yang kuat. Korelasi mendekati 0 menunjukkan tidak adanya hubungan linear yang signifikan antara variabel tersebut.\n",
        "- fitur Glucose memiliki korelasi positif yang signifikan dengan fitur  Outcome, dengan nilai korelasi sekitar 0.47. Ini menunjukkan bahwa tingkat glukosa yang lebih tinggi cenderung berkorelasi dengan peningkatan risiko diabetes.\n",
        "- Terdapat korelasi positif yang cukup kuat antara insulin dan glukosa, dengan nilai korelasi sekitar 0.33. Ini wajar karena insulin diproduksi sebagai respons terhadap konsentrasi glukosa dalam darah.\n",
        "- dari boxplot diatas fitur yang memiliki outliers terpaut jauh yaitu fitur insulin\n"
      ]
    },
    {
      "cell_type": "markdown",
      "id": "PI5McevqAtvA",
      "metadata": {
        "id": "PI5McevqAtvA"
      },
      "source": [
        "## **Univariate analysyst**\n"
      ]
    },
    {
      "cell_type": "code",
      "execution_count": null,
      "id": "Asyc04EkA3ex",
      "metadata": {
        "id": "Asyc04EkA3ex"
      },
      "outputs": [],
      "source": [
        "diabetes.describe().round(3).T"
      ]
    },
    {
      "cell_type": "code",
      "execution_count": null,
      "id": "CNjoUNPbBHKe",
      "metadata": {
        "id": "CNjoUNPbBHKe"
      },
      "outputs": [],
      "source": [
        "df2 = diabetes.copy()\n",
        "df2['Outcome'] = df2['Outcome'].map({1: \"Yes\", 0: \"No\"})"
      ]
    },
    {
      "cell_type": "code",
      "execution_count": null,
      "id": "OVWeHm5eD6ne",
      "metadata": {
        "id": "OVWeHm5eD6ne"
      },
      "outputs": [],
      "source": [
        "df2.head()"
      ]
    },
    {
      "cell_type": "code",
      "execution_count": null,
      "id": "E0UNFX-2EWTu",
      "metadata": {
        "id": "E0UNFX-2EWTu"
      },
      "outputs": [],
      "source": [
        "df2.info()"
      ]
    },
    {
      "cell_type": "code",
      "execution_count": null,
      "id": "1DjBXVxcuPHK",
      "metadata": {
        "id": "1DjBXVxcuPHK"
      },
      "outputs": [],
      "source": [
        "categorical = df2.select_dtypes(['object'])\n",
        "# draw countplot and pie plot of categorical data\n",
        "for col in categorical:\n",
        "\n",
        "    fig, axes = plt.subplots(1,2,figsize=(10,4))\n",
        "\n",
        "    # count of col (countplot)\n",
        "    sns.countplot(data=df2, x=col, ax=axes[0])\n",
        "    for container in axes[0].containers:\n",
        "        axes[0].bar_label(container)\n",
        "    # count of col (pie chart)\n",
        "    slices = df2[col].value_counts().values\n",
        "    activities = [f\"{i} ({var})\" for i, var in zip(df2[col].value_counts().index, df2[col].value_counts().index)]\n",
        "    axes[1].pie(slices, labels=activities, shadow=True, autopct='%1.1f%%')\n",
        "\n",
        "    plt.suptitle(f'Count of Unique Value in {col}', y=1.09)\n",
        "    plt.show()"
      ]
    },
    {
      "cell_type": "code",
      "execution_count": null,
      "id": "S57etfo1v-Ye",
      "metadata": {
        "id": "S57etfo1v-Ye"
      },
      "outputs": [],
      "source": [
        "df3 = df2.copy()"
      ]
    },
    {
      "cell_type": "code",
      "execution_count": null,
      "id": "HUhvzNQXwF9s",
      "metadata": {
        "id": "HUhvzNQXwF9s"
      },
      "outputs": [],
      "source": [
        "# Membuat fungsi untuk mengkategorikan usia\n",
        "def Age_Category(Age):\n",
        "    if Age < 26:\n",
        "        return 'Remaja'\n",
        "    elif Age < 60:\n",
        "        return 'Dewasa'\n",
        "    else:\n",
        "        return 'Manula'\n",
        "\n",
        "# Menggunakan fungsi untuk membuat kolom kategori usia baru\n",
        "df3['kategori_usia'] = df3['Age'].apply(Age_Category)"
      ]
    },
    {
      "cell_type": "code",
      "execution_count": null,
      "id": "t_aJatiQxLIO",
      "metadata": {
        "id": "t_aJatiQxLIO"
      },
      "outputs": [],
      "source": [
        "df3.info()"
      ]
    },
    {
      "cell_type": "code",
      "execution_count": null,
      "id": "x5WD1YXGxXwW",
      "metadata": {
        "id": "x5WD1YXGxXwW"
      },
      "outputs": [],
      "source": [
        "df3 = df3.drop(columns=['Age'])"
      ]
    },
    {
      "cell_type": "code",
      "execution_count": null,
      "id": "3LfMghwaDY-m",
      "metadata": {
        "id": "3LfMghwaDY-m"
      },
      "outputs": [],
      "source": [
        "df3['kategori_usia'].value_counts()"
      ]
    },
    {
      "cell_type": "code",
      "execution_count": null,
      "id": "sfudVKX_9xAR",
      "metadata": {
        "id": "sfudVKX_9xAR"
      },
      "outputs": [],
      "source": [
        "# Menampilkan distribusi kategori usia dalam diagram batang\n",
        "plt.figure(figsize=(6, 4))\n",
        "df3['kategori_usia'].value_counts().plot(kind='bar', color='lightskyblue')\n",
        "plt.suptitle(f'Age Category Distribution', y=1.09)\n",
        "plt.xlabel('Kategori Usia', fontsize=12)\n",
        "plt.ylabel('Jumlah', fontsize=12)\n",
        "plt.xticks(rotation=45)\n",
        "plt.grid(axis='y', linestyle='--', alpha=0.7)\n",
        "plt.tight_layout()\n",
        "plt.show()\n",
        "\n",
        "plt.figure(figsize=(6, 4))\n",
        "df3['kategori_usia'].value_counts().plot(kind='pie', shadow=True, autopct='%1.1f%%', colors=['lightcoral', 'lightskyblue', 'lightgreen'])\n",
        "plt.ylabel('')\n",
        "plt.tight_layout()\n",
        "plt.show()"
      ]
    },
    {
      "cell_type": "markdown",
      "id": "EGXiNIm0AvIT",
      "metadata": {
        "id": "EGXiNIm0AvIT"
      },
      "source": [
        "## **Bivariate Analysyst**"
      ]
    },
    {
      "cell_type": "code",
      "execution_count": null,
      "id": "lwDLYxCz-M-_",
      "metadata": {
        "id": "lwDLYxCz-M-_"
      },
      "outputs": [],
      "source": [
        "# Menampilkan distribusi Outcome berdasarkan kategori usia\n",
        "plt.figure(figsize=(10, 6))\n",
        "sns.countplot(data=df3, x='kategori_usia', hue='Outcome')\n",
        "plt.title('Distribusi Outcome Berdasarkan Kategori Usia')\n",
        "plt.xlabel('Kategori Usia')\n",
        "plt.ylabel('Jumlah')\n",
        "plt.legend(title='Outcome')\n",
        "plt.grid(axis='y', linestyle='--', alpha=0.7)\n",
        "plt.tight_layout()\n",
        "plt.show()"
      ]
    },
    {
      "cell_type": "code",
      "execution_count": null,
      "id": "HWmEqYWJtTBb",
      "metadata": {
        "id": "HWmEqYWJtTBb"
      },
      "outputs": [],
      "source": [
        "outcome_distribution = df3.groupby(['kategori_usia', 'Outcome']).size().unstack()\n",
        "outcome_distribution"
      ]
    },
    {
      "cell_type": "markdown",
      "id": "jXFjupAyA5kT",
      "metadata": {
        "id": "jXFjupAyA5kT"
      },
      "source": [
        "## **Multivariate Analysyst**"
      ]
    },
    {
      "cell_type": "code",
      "execution_count": null,
      "id": "Ggflm17d-x52",
      "metadata": {
        "id": "Ggflm17d-x52"
      },
      "outputs": [],
      "source": [
        "# Swarmplot untuk Glucose\n",
        "plt.figure(figsize=(10, 6))\n",
        "sns.swarmplot(data=df3, x='kategori_usia', y='Glucose', hue='Outcome')\n",
        "plt.title('Swarmplot untuk Glucose')\n",
        "plt.xlabel('Kategori Usia', fontsize=12)\n",
        "plt.ylabel('Glucose', fontsize=12)\n",
        "plt.legend(title='Outcome')\n",
        "plt.grid(True, linestyle='--', alpha=0.7)\n",
        "plt.tight_layout()\n",
        "plt.show()\n",
        "\n",
        "# Swarmplot untuk BloodPressure\n",
        "plt.figure(figsize=(10, 6))\n",
        "sns.swarmplot(data=df3, x='kategori_usia', y='BloodPressure', hue='Outcome')\n",
        "plt.title('Swarmplot untuk BloodPressure')\n",
        "plt.xlabel('Kategori Usia', fontsize=12)\n",
        "plt.ylabel('BloodPressure', fontsize=12)\n",
        "plt.legend(title='Outcome')\n",
        "plt.grid(True, linestyle='--', alpha=0.7)\n",
        "plt.tight_layout()\n",
        "plt.show()"
      ]
    },
    {
      "cell_type": "markdown",
      "id": "TgyNJxSSBNY-",
      "metadata": {
        "id": "TgyNJxSSBNY-"
      },
      "source": [
        "## INSIGHT 3"
      ]
    },
    {
      "cell_type": "markdown",
      "id": "tixRmYXOBVZm",
      "metadata": {
        "id": "tixRmYXOBVZm"
      },
      "source": [
        "1. Dari 768 data terdapat 268 data yang bernilai 1 / YES / Positive Diabetes , dan 500 data bernilai 0 / NO / Negative Diabetes.\n",
        "2. Presentase distribusi Outcome 65,1% NO dan 34,9% YES\n",
        "3. Dilakukan penkategorian berdasarkan fitur Age / usia\n",
        "4. Setelah dilakukan pengkategorian usia ternyata terdapat :\n",
        "     - 34,8% atau sejumlah 267 kategori usia remaja (< 25thn)\n",
        "     - 61,1% atau sejumlah 469 kategori usia dewasa (<60thn)\n",
        "     - 4,2% atau sejumlah 32 kategori usia manula (>60thn)\n",
        "5. Meskipun begitu distribusi positive diabetes tertinggi berada pada kategori usia Dewasa yaitu sejumlah 214"
      ]
    },
    {
      "cell_type": "markdown",
      "id": "glgimjscbJ7f",
      "metadata": {
        "id": "glgimjscbJ7f"
      },
      "source": [
        "# **MODELLING**"
      ]
    },
    {
      "cell_type": "markdown",
      "id": "3skrN3_Xu9m0",
      "metadata": {
        "id": "3skrN3_Xu9m0"
      },
      "source": [
        "## **SVM**"
      ]
    },
    {
      "cell_type": "code",
      "execution_count": null,
      "id": "25nlI9plu7lw",
      "metadata": {
        "id": "25nlI9plu7lw"
      },
      "outputs": [],
      "source": [
        "#Pisahkan atribut\n",
        "X = diabetes[diabetes.columns[:8]]\n",
        "\n",
        "#Pisahkan label output\n",
        "\n",
        "y = diabetes['Outcome']"
      ]
    },
    {
      "cell_type": "code",
      "execution_count": null,
      "id": "06egEDyNvJki",
      "metadata": {
        "id": "06egEDyNvJki"
      },
      "outputs": [],
      "source": [
        "from sklearn.preprocessing import StandardScaler\n",
        "\n",
        "#Standarisasi\n",
        "\n",
        "scaler = StandardScaler()\n",
        "scaler.fit(X)\n",
        "X = scaler.transform(X)"
      ]
    },
    {
      "cell_type": "code",
      "execution_count": null,
      "id": "VAq0jl8lx69h",
      "metadata": {
        "id": "VAq0jl8lx69h"
      },
      "outputs": [],
      "source": [
        "from sklearn.model_selection import train_test_split\n",
        "\n",
        "# memisahkan data untuk training dan testing\n",
        "X_train, X_test, y_train, y_test = train_test_split(\n",
        "    X, y, test_size=0.2, random_state=42)"
      ]
    },
    {
      "cell_type": "code",
      "execution_count": null,
      "id": "I_DH-3RJx9JY",
      "metadata": {
        "id": "I_DH-3RJx9JY"
      },
      "outputs": [],
      "source": [
        "from sklearn.svm import SVC\n",
        "\n",
        "# membuat objek SVC dan memanggil fungsi fit untuk melatih model\n",
        "clf = SVC()\n",
        "svc_model = clf.fit(X_train, y_train)"
      ]
    },
    {
      "cell_type": "code",
      "execution_count": null,
      "id": "cqpLpPgPyGF7",
      "metadata": {
        "id": "cqpLpPgPyGF7"
      },
      "outputs": [],
      "source": [
        "# Menampilkan skor akurasi prediksi\n",
        "svc_model.score(X_test, y_test)"
      ]
    },
    {
      "cell_type": "code",
      "execution_count": null,
      "id": "YinYVhWdyJxq",
      "metadata": {
        "id": "YinYVhWdyJxq"
      },
      "outputs": [],
      "source": [
        "diabetes.head(5)"
      ]
    },
    {
      "cell_type": "code",
      "execution_count": null,
      "id": "nDHiZyg3yNt4",
      "metadata": {
        "id": "nDHiZyg3yNt4"
      },
      "outputs": [],
      "source": [
        "#Test prediksi\n",
        "#Jika 0 maka Tidak diabetes, jika 1 maka diabetes\n",
        "\n",
        "\n",
        "print(svc_model.predict([[4,142,72,30,0,33.6,0.627,20]])[0])"
      ]
    },
    {
      "cell_type": "code",
      "execution_count": null,
      "id": "ya3DkE9myn2M",
      "metadata": {
        "id": "ya3DkE9myn2M"
      },
      "outputs": [],
      "source": [
        "#Test prediksi\n",
        "#Jika 0 maka Tidak diabetes, jika 1 maka diabetes\n",
        "\n",
        "\n",
        "print(svc_model.predict([[4, 142, 72, 30, 0, 33.6, 0.627, 20]])[0])"
      ]
    },
    {
      "cell_type": "markdown",
      "id": "65B5JufALIpo",
      "metadata": {
        "id": "65B5JufALIpo"
      },
      "source": [
        "## **LOGISTIC REGRESSION**"
      ]
    },
    {
      "cell_type": "code",
      "execution_count": null,
      "id": "yd3jgkfmNuLh",
      "metadata": {
        "id": "yd3jgkfmNuLh"
      },
      "outputs": [],
      "source": [
        "from sklearn.linear_model import LogisticRegression\n",
        "from sklearn.metrics import accuracy_score, classification_report, confusion_matrix"
      ]
    },
    {
      "cell_type": "code",
      "execution_count": null,
      "id": "qvKDepv0O95Y",
      "metadata": {
        "id": "qvKDepv0O95Y"
      },
      "outputs": [],
      "source": [
        "# Memisahkan data menjadi set pelatihan dan pengujian\n",
        "X_train, X_test, y_train, y_test = train_test_split(X, y, test_size=0.2, random_state=42)"
      ]
    },
    {
      "cell_type": "code",
      "execution_count": null,
      "id": "vcbFWu8tLOjY",
      "metadata": {
        "id": "vcbFWu8tLOjY"
      },
      "outputs": [],
      "source": [
        "# Membuat model Logistic Regression\n",
        "logreg_model = LogisticRegression(max_iter=1000, random_state=42)\n",
        "print(logreg_model)"
      ]
    },
    {
      "cell_type": "code",
      "execution_count": null,
      "id": "Xq_OAFKlM7yW",
      "metadata": {
        "id": "Xq_OAFKlM7yW"
      },
      "outputs": [],
      "source": [
        "# Melatih model dengan data latih\n",
        "logreg_model.fit(X_train, y_train)\n",
        "\n",
        "# Membuat prediksi dengan model yang dilatih\n",
        "y_pred = logreg_model.predict(X_test)"
      ]
    },
    {
      "cell_type": "code",
      "execution_count": null,
      "id": "BHV-gSDuNAeD",
      "metadata": {
        "id": "BHV-gSDuNAeD"
      },
      "outputs": [],
      "source": [
        "# Menampilkan skor akurasi prediksi\n",
        "accuracy = accuracy_score(y_test, y_pred)\n",
        "print(\"Accuracy:\", accuracy)"
      ]
    },
    {
      "cell_type": "code",
      "execution_count": null,
      "id": "QXDUFoqFNJgN",
      "metadata": {
        "id": "QXDUFoqFNJgN"
      },
      "outputs": [],
      "source": [
        "# Mengambil contoh satu instance untuk diprediksi\n",
        "sample_instance = [[4, 142, 72, 30, 0, 33.6, 0.627, 20]]\n",
        "# Melakukan prediksi menggunakan model Logistic Regression yang telah dilatih sebelumnya\n",
        "predicted_outcome = logreg_model.predict(sample_instance)\n",
        "# Menampilkan hasil prediksi\n",
        "print(predicted_outcome[0])"
      ]
    },
    {
      "cell_type": "markdown",
      "id": "OG9hS5A9Qn4v",
      "metadata": {
        "id": "OG9hS5A9Qn4v"
      },
      "source": [
        "## **Random forest**"
      ]
    },
    {
      "cell_type": "code",
      "execution_count": null,
      "id": "dQsojSfYQwiC",
      "metadata": {
        "id": "dQsojSfYQwiC"
      },
      "outputs": [],
      "source": [
        "# Memisahkan data menjadi set pelatihan dan pengujian\n",
        "X_train, X_test, y_train, y_test = train_test_split(X, y, test_size=0.2, random_state=42)"
      ]
    },
    {
      "cell_type": "code",
      "execution_count": null,
      "id": "3rSKDIfUQ7sl",
      "metadata": {
        "id": "3rSKDIfUQ7sl"
      },
      "outputs": [],
      "source": [
        "# Membuat model Random Forest\n",
        "rf_model = RandomForestClassifier(n_estimators=100, random_state=42)\n",
        "rf_model.fit(X_train, y_train)"
      ]
    },
    {
      "cell_type": "code",
      "execution_count": null,
      "id": "y-U70dKhRAk9",
      "metadata": {
        "id": "y-U70dKhRAk9"
      },
      "outputs": [],
      "source": [
        "# Membuat prediksi dengan model yang dilatih\n",
        "y_pred = rf_model.predict(X_test)"
      ]
    },
    {
      "cell_type": "code",
      "execution_count": null,
      "id": "1Z6-bMYvRHme",
      "metadata": {
        "id": "1Z6-bMYvRHme"
      },
      "outputs": [],
      "source": [
        "# Menampilkan skor akurasi prediksi\n",
        "accuracy = accuracy_score(y_test, y_pred)\n",
        "print(\"Accuracy:\", accuracy)"
      ]
    },
    {
      "cell_type": "code",
      "execution_count": null,
      "id": "lzjpmMhUT_yf",
      "metadata": {
        "id": "lzjpmMhUT_yf"
      },
      "outputs": [],
      "source": [
        "# Mengambil contoh satu instance untuk diprediksi\n",
        "sample_instance = [[4, 142, 72, 30, 0, 33.6, 0.627, 20]]\n",
        "\n",
        "# Melakukan prediksi menggunakan model Random Forest yang telah dilatih sebelumnya\n",
        "predicted_outcome = rf_model.predict(sample_instance)\n",
        "\n",
        "# Menampilkan hasil prediksi\n",
        "print(predicted_outcome[0])"
      ]
    },
    {
      "cell_type": "markdown",
      "id": "88lJKP5TWvqu",
      "metadata": {
        "id": "88lJKP5TWvqu"
      },
      "source": [
        "## **GRADIENBOOSTING**"
      ]
    },
    {
      "cell_type": "code",
      "execution_count": null,
      "id": "VKXzv84iWujw",
      "metadata": {
        "id": "VKXzv84iWujw"
      },
      "outputs": [],
      "source": [
        "from sklearn.ensemble import GradientBoostingClassifier\n",
        "from sklearn.metrics import accuracy_score, classification_report, confusion_matrix"
      ]
    },
    {
      "cell_type": "code",
      "execution_count": null,
      "id": "8DbOxPmbWSPR",
      "metadata": {
        "id": "8DbOxPmbWSPR"
      },
      "outputs": [],
      "source": [
        "# Memisahkan data menjadi set pelatihan dan pengujian\n",
        "X_train, X_test, y_train, y_test = train_test_split(X, y, test_size=0.2, random_state=42)"
      ]
    },
    {
      "cell_type": "code",
      "execution_count": null,
      "id": "2DAT7priWdGR",
      "metadata": {
        "id": "2DAT7priWdGR"
      },
      "outputs": [],
      "source": [
        "# Membuat model Gradient Boosting\n",
        "gbm_model = GradientBoostingClassifier(n_estimators=100, learning_rate=0.1, random_state=42)\n",
        "gbm_model.fit(X_train, y_train)"
      ]
    },
    {
      "cell_type": "code",
      "execution_count": null,
      "id": "KNfbqQA8WeQ7",
      "metadata": {
        "id": "KNfbqQA8WeQ7"
      },
      "outputs": [],
      "source": [
        "# Membuat prediksi dengan model yang dilatih\n",
        "y_pred = gbm_model.predict(X_test)"
      ]
    },
    {
      "cell_type": "code",
      "execution_count": null,
      "id": "XxOYDp1xWhE0",
      "metadata": {
        "id": "XxOYDp1xWhE0"
      },
      "outputs": [],
      "source": [
        "# Evaluasi model\n",
        "accuracy = accuracy_score(y_test, y_pred)\n",
        "print(\"Accuracy:\", accuracy)\n"
      ]
    },
    {
      "cell_type": "markdown",
      "id": "fPN-RO7ZjLzj",
      "metadata": {
        "id": "fPN-RO7ZjLzj"
      },
      "source": [
        "# **Final Model**"
      ]
    },
    {
      "cell_type": "code",
      "execution_count": null,
      "id": "-Ww4rwTCkU5o",
      "metadata": {
        "id": "-Ww4rwTCkU5o"
      },
      "outputs": [],
      "source": [
        "# Data hasil akurasi algoritma model\n",
        "data = {\n",
        "    'Model': ['SVM', 'Logistic Regression', 'Random Forest', 'Gradient Boosting'],\n",
        "    'Accuracy': [0.727, 0.753, 0.727, 0.740]\n",
        "}\n",
        "df4 = pd.DataFrame(data)\n",
        "max_accuracy_row = df4.loc[df['Accuracy'].idxmax()]\n",
        "highlighted_df4 = df4.style.apply(lambda x: ['background: green' if x.name == max_accuracy_row.name else '' for i in x], axis=1)\n",
        "highlighted_df4"
      ]
    },
    {
      "cell_type": "markdown",
      "id": "f5rKSAiOmDlK",
      "metadata": {
        "id": "f5rKSAiOmDlK"
      },
      "source": [
        "# **OVERSAMPLING**"
      ]
    },
    {
      "cell_type": "code",
      "execution_count": null,
      "id": "oewEiDkMmZg7",
      "metadata": {
        "id": "oewEiDkMmZg7"
      },
      "outputs": [],
      "source": [
        "from imblearn.over_sampling import SMOTE\n",
        "from sklearn.model_selection import train_test_split\n",
        "import pandas as pd\n",
        "\n",
        "df5 = diabetes.copy()\n",
        "df5['Outcome'] = df5['Outcome'].map({1: \"Yes\", 0: \"No\"})"
      ]
    },
    {
      "cell_type": "code",
      "execution_count": null,
      "id": "BZKEG5jRn4jx",
      "metadata": {
        "id": "BZKEG5jRn4jx"
      },
      "outputs": [],
      "source": [
        "from imblearn.over_sampling import SMOTE\n",
        "from sklearn.model_selection import train_test_split\n",
        "import pandas as pd\n",
        "\n",
        "X = df5.drop('Outcome', axis=1)\n",
        "y = df5['Outcome']\n",
        "X_train, X_test, y_train, y_test = train_test_split(X, y, test_size=0.2, random_state=42)\n",
        "\n",
        "smote = SMOTE(random_state=42)\n",
        "\n",
        "X_train_resampled, y_train_resampled = smote.fit_resample(X_train, y_train)\n",
        "df_resampled = pd.concat([pd.DataFrame(X_train_resampled, columns=X_train.columns), pd.DataFrame(y_train_resampled, columns=['Outcome'])], axis=1)\n",
        "print(\"Jumlah sampel setelah oversampling:\")\n",
        "print(df_resampled['Outcome'].value_counts())"
      ]
    },
    {
      "cell_type": "code",
      "execution_count": null,
      "id": "Acn_m5FnoU-U",
      "metadata": {
        "id": "Acn_m5FnoU-U"
      },
      "outputs": [],
      "source": [
        "from sklearn.linear_model import LogisticRegression\n",
        "from sklearn.metrics import accuracy_score, classification_report, confusion_matrix\n",
        "\n",
        "model = LogisticRegression()\n",
        "\n",
        "model.fit(X_train_resampled, y_train_resampled)\n",
        "y_pred = model.predict(X_test)\n",
        "accuracy = accuracy_score(y_test, y_pred)\n",
        "print(\"Akurasi:\", accuracy)\n",
        "print(\"\\nClassification Report:\")\n",
        "print(classification_report(y_test, y_pred))\n",
        "print(\"\\nConfusion Matrix:\")\n",
        "print(confusion_matrix(y_test, y_pred))"
      ]
    },
    {
      "cell_type": "code",
      "execution_count": null,
      "id": "O5A2nTj2ohMk",
      "metadata": {
        "id": "O5A2nTj2ohMk"
      },
      "outputs": [],
      "source": [
        "from sklearn.model_selection import GridSearchCV\n",
        "\n",
        "param_grid = {\n",
        "    'C': [0.001, 0.01, 0.1, 1, 10, 100],\n",
        "    'penalty': ['l2']\n",
        "}\n",
        "model = LogisticRegression(max_iter=1000)\n",
        "\n",
        "# GridSearchCV\n",
        "grid_search = GridSearchCV(model, param_grid, cv=5, scoring='accuracy')\n",
        "grid_search.fit(X_train_resampled, y_train_resampled)\n",
        "print(\"Parameter terbaik:\", grid_search.best_params_)\n",
        "print(\"Akurasi terbaik:\", grid_search.best_score_)"
      ]
    },
    {
      "cell_type": "markdown",
      "id": "EqXs1MbZtw1-",
      "metadata": {
        "id": "EqXs1MbZtw1-"
      },
      "source": [
        "## standarisasi fitur"
      ]
    },
    {
      "cell_type": "code",
      "execution_count": null,
      "id": "_tOBBv1IpHA6",
      "metadata": {
        "id": "_tOBBv1IpHA6"
      },
      "outputs": [],
      "source": [
        "from sklearn.preprocessing import StandardScaler\n",
        "scaler = StandardScaler()\n",
        "scaler.fit(X)"
      ]
    },
    {
      "cell_type": "code",
      "execution_count": null,
      "id": "7mjhR3_bt-GD",
      "metadata": {
        "id": "7mjhR3_bt-GD"
      },
      "outputs": [],
      "source": [
        "standarized_data = scaler.transform(X)"
      ]
    },
    {
      "cell_type": "code",
      "execution_count": null,
      "id": "2Tl1Kv_XuoH3",
      "metadata": {
        "id": "2Tl1Kv_XuoH3"
      },
      "outputs": [],
      "source": [
        "print(standarized_data)"
      ]
    },
    {
      "cell_type": "code",
      "execution_count": null,
      "id": "fUTUrCUxuBG-",
      "metadata": {
        "id": "fUTUrCUxuBG-"
      },
      "outputs": [],
      "source": [
        "X = standarized_data\n",
        "Y = diabetes['Outcome']"
      ]
    },
    {
      "cell_type": "code",
      "execution_count": null,
      "id": "PhT6WHkeuL5C",
      "metadata": {
        "id": "PhT6WHkeuL5C"
      },
      "outputs": [],
      "source": [
        "print(X)\n",
        "print(Y)"
      ]
    },
    {
      "cell_type": "code",
      "execution_count": null,
      "id": "dy_PP5xpuO2w",
      "metadata": {
        "id": "dy_PP5xpuO2w"
      },
      "outputs": [],
      "source": [
        "X_train, X_test, Y_train, Y_test = train_test_split(X, Y, test_size= 0.2, stratify=Y, random_state=2)\n",
        "print(X.shape, X_train.shape, X_test.shape)"
      ]
    },
    {
      "cell_type": "code",
      "execution_count": null,
      "id": "2INd690Qu_MK",
      "metadata": {
        "id": "2INd690Qu_MK"
      },
      "outputs": [],
      "source": [
        "from sklearn import svm\n",
        "classifier = svm.SVC(kernel='linear')\n",
        "classifier.fit(X_train, Y_train)\n",
        "X_train_prediction = classifier.predict(X_train)\n",
        "training_data_accuracy = accuracy_score(X_train_prediction, Y_train)\n",
        "print('Akurasi data training = ', training_data_accuracy)"
      ]
    },
    {
      "cell_type": "code",
      "execution_count": null,
      "id": "aKXtX6xlvQs3",
      "metadata": {
        "id": "aKXtX6xlvQs3"
      },
      "outputs": [],
      "source": [
        "X_test_prediction = classifier.predict(X_test)\n",
        "test_data_accuracy = accuracy_score(X_test_prediction, Y_test)\n",
        "print('Akurasi data testing = ', test_data_accuracy)"
      ]
    },
    {
      "cell_type": "code",
      "execution_count": null,
      "id": "b4Ytg9XPv9K8",
      "metadata": {
        "id": "b4Ytg9XPv9K8"
      },
      "outputs": [],
      "source": [
        "from sklearn.preprocessing import StandardScaler\n",
        "from sklearn.model_selection import train_test_split\n",
        "from sklearn.svm import SVC\n",
        "\n",
        "X = diabetes[diabetes.columns[:8]]\n",
        "y = diabetes['Outcome']\n",
        "\n",
        "scaler = StandardScaler()\n",
        "scaler.fit(X)\n",
        "X = scaler.transform(X)\n",
        "X_train, X_test, y_train, y_test = train_test_split(\n",
        "    X, y, test_size=0.2, random_state=42)\n",
        "\n",
        "clf = SVC()\n",
        "svc_model = clf.fit(X_train, y_train)\n",
        "svc_model.score(X_test, y_test)"
      ]
    },
    {
      "cell_type": "code",
      "execution_count": null,
      "id": "HTAd2k8IwubD",
      "metadata": {
        "id": "HTAd2k8IwubD"
      },
      "outputs": [],
      "source": [
        "from sklearn.model_selection import train_test_split\n",
        "from sklearn.linear_model import LogisticRegression\n",
        "from sklearn.metrics import accuracy_score, classification_report, confusion_matrix\n",
        "\n",
        "X_train, X_test, y_train, y_test = train_test_split(X, y, test_size=0.2, random_state=42)\n",
        "logreg_model = LogisticRegression(max_iter=1000, random_state=42)\n",
        "logreg_model.fit(X_train, y_train)\n",
        "y_pred = logreg_model.predict(X_test)\n",
        "accuracy = accuracy_score(y_test, y_pred)\n",
        "print(\"Accuracy:\", accuracy)\n"
      ]
    },
    {
      "cell_type": "code",
      "execution_count": null,
      "id": "Gtw2QlxWyOKD",
      "metadata": {
        "id": "Gtw2QlxWyOKD"
      },
      "outputs": [],
      "source": [
        "from sklearn.model_selection import train_test_split\n",
        "from sklearn.linear_model import LogisticRegression\n",
        "from sklearn.metrics import accuracy_score\n",
        "\n",
        "# Membagi data menjadi data pelatihan dan data uji dengan stratifikasi\n",
        "X_train, X_test, y_train, y_test = train_test_split(X, Y, test_size=0.2, stratify=Y, random_state=2)\n",
        "\n",
        "# Inisialisasi model regresi logistik\n",
        "logreg_model = LogisticRegression(max_iter=1000, random_state=42)\n",
        "\n",
        "# Melatih model pada data pelatihan\n",
        "logreg_model.fit(X_train, y_train)\n",
        "\n",
        "# Membuat prediksi pada data uji\n",
        "y_pred = logreg_model.predict(X_test)\n",
        "\n",
        "# Evaluasi model\n",
        "accuracy = accuracy_score(y_test, y_pred)\n",
        "print(\"Accuracy:\", accuracy)"
      ]
    },
    {
      "cell_type": "code",
      "execution_count": null,
      "id": "fjZj-rj9zz2t",
      "metadata": {
        "id": "fjZj-rj9zz2t"
      },
      "outputs": [],
      "source": []
    },
    {
      "cell_type": "markdown",
      "id": "ZtvPk0W-Ee58",
      "metadata": {
        "id": "ZtvPk0W-Ee58"
      },
      "source": [
        "# UNDERSAMPLING"
      ]
    },
    {
      "cell_type": "code",
      "execution_count": null,
      "id": "6WoWzzmHEhCH",
      "metadata": {
        "id": "6WoWzzmHEhCH"
      },
      "outputs": [],
      "source": [
        "from imblearn.under_sampling import RandomUnderSampler\n",
        "\n",
        "X_train, X_test, y_train, y_test = train_test_split(X, y, test_size=0.2, random_state=42)\n",
        "\n",
        "rus = RandomUnderSampler(random_state=42)\n",
        "X_resampled, y_resampled = rus.fit_resample(X_train, y_train)"
      ]
    },
    {
      "cell_type": "code",
      "execution_count": null,
      "id": "r5NuGo4RFWeX",
      "metadata": {
        "id": "r5NuGo4RFWeX"
      },
      "outputs": [],
      "source": [
        "print(\"Jumlah kelas setelah undersampling:\", y_resampled.value_counts())"
      ]
    },
    {
      "cell_type": "code",
      "execution_count": null,
      "id": "KrmyTq5-Eorq",
      "metadata": {
        "id": "KrmyTq5-Eorq"
      },
      "outputs": [],
      "source": [
        "# LOGISTIC REG\n",
        "logreg_model = LogisticRegression(max_iter=1000, random_state=42)\n",
        "logreg_model.fit(X_resampled, y_resampled)\n",
        "y_pred = logreg_model.predict(X_test)\n",
        "\n",
        "# Evaluasi model\n",
        "accuracy = accuracy_score(y_test, y_pred)\n",
        "print(\"Accuracy:\", accuracy)"
      ]
    },
    {
      "cell_type": "code",
      "execution_count": null,
      "id": "DuqTPZMzF2Es",
      "metadata": {
        "id": "DuqTPZMzF2Es"
      },
      "outputs": [],
      "source": []
    },
    {
      "cell_type": "markdown",
      "id": "xFd98xbfGcYu",
      "metadata": {
        "id": "xFd98xbfGcYu"
      },
      "source": [
        "# **HANDLING OUTLIERS**"
      ]
    },
    {
      "cell_type": "code",
      "execution_count": null,
      "id": "LKIOQJUgGfjX",
      "metadata": {
        "id": "LKIOQJUgGfjX"
      },
      "outputs": [],
      "source": [
        "import pandas as pd\n",
        "from imblearn.over_sampling import SMOTE\n",
        "from sklearn.linear_model import LogisticRegression\n",
        "from sklearn.model_selection import train_test_split\n",
        "from sklearn.metrics import accuracy_score\n",
        "\n",
        "smote = SMOTE(random_state=42)\n",
        "X_resampled, y_resampled = smote.fit_resample(X, y)\n",
        "\n",
        "X_train, X_test, y_train, y_test = train_test_split(X_resampled, y_resampled, test_size=0.2, random_state=42)\n",
        "\n",
        "# Assuming you want to use logistic regression as your classifier\n",
        "log_reg = LogisticRegression()\n",
        "log_reg.fit(X_train, y_train)\n",
        "y_pred = log_reg.predict(X_test)\n",
        "\n",
        "# Evaluate accuracy\n",
        "accuracy = accuracy_score(y_test, y_pred)\n",
        "print(\"Accuracy:\", accuracy)\n",
        "\n",
        "# Display the number of data after oversampling\n",
        "print(\"Number of data after oversampling:\")\n",
        "print(pd.Series(y_resampled).value_counts())"
      ]
    },
    {
      "cell_type": "code",
      "execution_count": null,
      "id": "XyJzYPsrGuAA",
      "metadata": {
        "id": "XyJzYPsrGuAA"
      },
      "outputs": [],
      "source": [
        "# Logistic Regression\n",
        "logreg_model = LogisticRegression(max_iter=1000, random_state=42)\n",
        "logreg_model.fit(X_train, y_train)\n",
        "y_pred = logreg_model.predict(X_test)\n",
        "\n",
        "# akurasi\n",
        "accuracy = accuracy_score(y_test, y_pred)\n",
        "print(\"Akurasi model:\", accuracy)"
      ]
    },
    {
      "cell_type": "code",
      "execution_count": null,
      "id": "ZYmt9ce9GvMg",
      "metadata": {
        "id": "ZYmt9ce9GvMg"
      },
      "outputs": [],
      "source": [
        "# Membuat model SVM\n",
        "svm_model = SVC(random_state=42)\n",
        "svm_model.fit(X_train, y_train)\n",
        "y_pred_svm = svm_model.predict(X_test)\n",
        "accuracy_svm = accuracy_score(y_test, y_pred_svm)\n",
        "print(\"Akurasi SVM:\", accuracy_svm)"
      ]
    },
    {
      "cell_type": "code",
      "execution_count": null,
      "id": "XuoFjiQ4HBY0",
      "metadata": {
        "id": "XuoFjiQ4HBY0"
      },
      "outputs": [],
      "source": [
        "# Membuat model Random Forest\n",
        "rf_model = RandomForestClassifier(random_state=42)\n",
        "rf_model.fit(X_train, y_train)\n",
        "y_pred_rf = rf_model.predict(X_test)\n",
        "accuracy_rf = accuracy_score(y_test, y_pred_rf)\n",
        "print(\"Akurasi Random Forest:\", accuracy_rf)"
      ]
    },
    {
      "cell_type": "code",
      "execution_count": null,
      "id": "gNT3u9eQHGGk",
      "metadata": {
        "id": "gNT3u9eQHGGk"
      },
      "outputs": [],
      "source": [
        "# Membuat model Gradient Boosting\n",
        "gb_model = GradientBoostingClassifier(random_state=42)\n",
        "gb_model.fit(X_train, y_train)\n",
        "y_pred_gb = gb_model.predict(X_test)\n",
        "accuracy_gb = accuracy_score(y_test, y_pred_gb)\n",
        "print(\"Akurasi Gradient Boosting:\", accuracy_gb)"
      ]
    },
    {
      "cell_type": "code",
      "execution_count": null,
      "id": "4jBwISpyHMka",
      "metadata": {
        "id": "4jBwISpyHMka"
      },
      "outputs": [],
      "source": [
        "import seaborn as sns\n",
        "import matplotlib.pyplot as plt\n",
        "\n",
        "# Membuat confusion matrix dalam bentuk DataFrame\n",
        "conf_matrix_rf_df = pd.DataFrame(conf_matrix_rf, index=['Actual Negative', 'Actual Positive'], columns=['Predicted Negative', 'Predicted Positive'])\n",
        "\n",
        "# Membuat visualisasi confusion matrix dalam bentuk diagram tabel\n",
        "plt.figure(figsize=(8, 6))\n",
        "sns.heatmap(conf_matrix_rf_df, annot=True, fmt='d', cmap='Blues')\n",
        "plt.title('Confusion Matrix - Random Forest')\n",
        "plt.xlabel('Predicted Label')\n",
        "plt.ylabel('Actual Label')\n",
        "plt.show()"
      ]
    },
    {
      "cell_type": "code",
      "execution_count": null,
      "id": "JQkDT7UjH8mJ",
      "metadata": {
        "id": "JQkDT7UjH8mJ"
      },
      "outputs": [],
      "source": [
        "from sklearn.metrics import confusion_matrix\n",
        "\n",
        "# Menghitung confusion matrix untuk Random Forest\n",
        "conf_matrix_rf = confusion_matrix(y_test, y_pred_rf)\n",
        "print(\"Confusion Matrix Random Forest:\")\n",
        "print(conf_matrix_rf)\n"
      ]
    },
    {
      "cell_type": "code",
      "execution_count": null,
      "id": "nTbRyjNoIVQA",
      "metadata": {
        "id": "nTbRyjNoIVQA"
      },
      "outputs": [],
      "source": [
        "from sklearn.metrics import accuracy_score\n",
        "\n",
        "# Menghitung akurasi pada data pelatihan\n",
        "y_train_pred = rf_model.predict(X_train)\n",
        "train_accuracy = accuracy_score(y_train, y_train_pred)\n",
        "print(\"Akurasi pada data pelatihan:\", train_accuracy)\n",
        "\n",
        "# Menghitung akurasi pada data pengujian\n",
        "y_test_pred = rf_model.predict(X_test)\n",
        "test_accuracy = accuracy_score(y_test, y_test_pred)\n",
        "print(\"Akurasi pada data pengujian:\", test_accuracy)"
      ]
    },
    {
      "cell_type": "code",
      "execution_count": null,
      "id": "djIaAR-RLpeq",
      "metadata": {
        "id": "djIaAR-RLpeq"
      },
      "outputs": [],
      "source": [
        "from sklearn.model_selection import cross_val_score\n",
        "from sklearn.ensemble import RandomForestClassifier\n",
        "\n",
        "# Melakukan cross-validation dengan 5 fold\n",
        "scores = cross_val_score(rf_model, X_train, y_train, cv=5)\n",
        "\n",
        "# Menampilkan hasil cross-validation\n",
        "print(\"Cross Validation Scores:\", scores)\n",
        "print(\"Rata-rata Cross Validation Score:\", scores.mean())\n"
      ]
    },
    {
      "cell_type": "markdown",
      "id": "IfZAbDfcQIf2",
      "metadata": {
        "id": "IfZAbDfcQIf2"
      },
      "source": [
        "# Save model"
      ]
    },
    {
      "cell_type": "code",
      "execution_count": null,
      "id": "goEWxByiNvvo",
      "metadata": {
        "id": "goEWxByiNvvo"
      },
      "outputs": [],
      "source": [
        "# Menyimpan model dalam format .sav\n",
        "import joblib\n",
        "joblib.dump(rf_model, 'random_forest_model.sav')"
      ]
    },
    {
      "cell_type": "code",
      "execution_count": null,
      "id": "6tdZOzviQO8a",
      "metadata": {
        "id": "6tdZOzviQO8a"
      },
      "outputs": [],
      "source": [
        "import pickle\n",
        "with open('random_forest_model.sav', 'wb') as f:\n",
        "    pickle.dump(rf_model, f)"
      ]
    },
    {
      "cell_type": "code",
      "execution_count": null,
      "id": "y_4aP6NqQ6Vh",
      "metadata": {
        "id": "y_4aP6NqQ6Vh"
      },
      "outputs": [],
      "source": [
        "import os\n",
        "\n",
        "save_dir = 'C:/Users/zaima/Downloads/streamlit-diabetes-main/streamlit-diabetes-main'\n",
        "model_filename = 'random_forest_model.sav'\n",
        "\n",
        "# Membuat direktori jika belum ada\n",
        "if not os.path.exists(save_dir):\n",
        "    os.makedirs(save_dir)\n",
        "\n",
        "model_path = os.path.join(save_dir, model_filename)\n",
        "with open(model_path, 'wb') as f:\n",
        "    pickle.dump(rf_model, f)\n",
        "\n",
        "print(\"Model Random Forest telah disimpan di:\", model_path)"
      ]
    },
    {
      "cell_type": "code",
      "execution_count": null,
      "id": "BuN1-Z5pUX7Q",
      "metadata": {
        "id": "BuN1-Z5pUX7Q"
      },
      "outputs": [],
      "source": [
        "import pickle\n",
        "filename = 'random_forest_model.sav'\n",
        "pickle.dump(rf_model, open(filename,'wb'))"
      ]
    },
    {
      "cell_type": "code",
      "execution_count": null,
      "id": "XW0x1LbbqR3v",
      "metadata": {
        "id": "XW0x1LbbqR3v"
      },
      "outputs": [],
      "source": [
        "import os\n",
        "\n",
        "folder_path = 'D:/saved_models'  # Ganti dengan path folder Anda\n",
        "\n",
        "if os.path.exists(folder_path):\n",
        "    print(\"Direktori ada.\")\n",
        "else:\n",
        "    print(\"Direktori tidak ada atau tidak dapat diakses.\")\n"
      ]
    },
    {
      "cell_type": "code",
      "execution_count": null,
      "id": "WqSB7LAOrPY5",
      "metadata": {
        "id": "WqSB7LAOrPY5"
      },
      "outputs": [],
      "source": [
        "import os\n",
        "import pickle\n",
        "\n",
        "# Tentukan direktori dan nama file untuk menyimpan model di drive D\n",
        "save_dir = '/'\n",
        "model_filename = 'random_forest_model.sav'\n",
        "\n",
        "# Pastikan direktori tersedia, jika tidak, buat direktori baru\n",
        "if not os.path.exists(save_dir):\n",
        "    os.makedirs(save_dir)\n",
        "\n",
        "# Gabungkan direktori dan nama file untuk mendapatkan path lengkap\n",
        "model_path = os.path.join(save_dir, model_filename)\n",
        "\n",
        "# Simpan model ke dalam file .sav menggunakan pickle\n",
        "with open(model_path, 'wb') as f:\n",
        "    pickle.dump(rf_model, f)\n",
        "\n",
        "print(\"Model Random Forest telah disimpan di:\", model_path)\n"
      ]
    },
    {
      "cell_type": "code",
      "execution_count": null,
      "id": "DE-PrviGvR4l",
      "metadata": {
        "id": "DE-PrviGvR4l"
      },
      "outputs": [],
      "source": [
        "pd.show_versions(as_json=False)"
      ]
    }
  ],
  "metadata": {
    "colab": {
      "collapsed_sections": [
        "OY7bhLmJ7qGH",
        "04z-yCMU73gK",
        "Ey3myevC8Isw",
        "c15925c7",
        "iFdd1Vdw8W5E",
        "qUiEq5iR6F-D",
        "2e9c3397",
        "p29FdjEiuX1K",
        "1vWzgUZByhtS",
        "OG9hS5A9Qn4v",
        "88lJKP5TWvqu",
        "fPN-RO7ZjLzj"
      ],
      "provenance": []
    },
    "kernelspec": {
      "display_name": "Python 3 (ipykernel)",
      "language": "python",
      "name": "python3"
    },
    "language_info": {
      "codemirror_mode": {
        "name": "ipython",
        "version": 3
      },
      "file_extension": ".py",
      "mimetype": "text/x-python",
      "name": "python",
      "nbconvert_exporter": "python",
      "pygments_lexer": "ipython3",
      "version": "3.10.9"
    }
  },
  "nbformat": 4,
  "nbformat_minor": 5
}